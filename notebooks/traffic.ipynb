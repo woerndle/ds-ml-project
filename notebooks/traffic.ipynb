{
 "cells": [
  {
   "cell_type": "code",
   "execution_count": 2,
   "metadata": {},
   "outputs": [],
   "source": [
    "import pandas as pd\n",
    "import numpy as np\n",
    "import matplotlib.pyplot as plt"
   ]
  },
  {
   "cell_type": "markdown",
   "metadata": {},
   "source": [
    "# 1. Read and introduce Data "
   ]
  },
  {
   "cell_type": "code",
   "execution_count": 3,
   "metadata": {},
   "outputs": [],
   "source": [
    "# Load dataset \n",
    "traffic_df = pd.read_csv('../data/Traffic.csv')\n",
    "traffic_df = pd.DataFrame(traffic_df)"
   ]
  },
  {
   "cell_type": "code",
   "execution_count": 7,
   "metadata": {},
   "outputs": [
    {
     "data": {
      "text/plain": [
       "Traffic Situation\n",
       "normal    1669\n",
       "heavy      682\n",
       "high       321\n",
       "low        304\n",
       "Name: count, dtype: int64"
      ]
     },
     "execution_count": 7,
     "metadata": {},
     "output_type": "execute_result"
    }
   ],
   "source": [
    "# Count traffic cases\n",
    "traffic_df['Traffic Situation'].value_counts()"
   ]
  },
  {
   "cell_type": "code",
   "execution_count": 5,
   "metadata": {},
   "outputs": [
    {
     "data": {
      "text/plain": [
       "Time                 0\n",
       "Date                 0\n",
       "Day of the week      0\n",
       "CarCount             0\n",
       "BikeCount            0\n",
       "BusCount             0\n",
       "TruckCount           0\n",
       "Total                0\n",
       "Traffic Situation    0\n",
       "dtype: int64"
      ]
     },
     "execution_count": 5,
     "metadata": {},
     "output_type": "execute_result"
    }
   ],
   "source": [
    "# Check for NA values\n",
    "traffic_df.isna().sum()"
   ]
  },
  {
   "cell_type": "code",
   "execution_count": 6,
   "metadata": {},
   "outputs": [
    {
     "data": {
      "text/plain": [
       "0"
      ]
     },
     "execution_count": 6,
     "metadata": {},
     "output_type": "execute_result"
    }
   ],
   "source": [
    "# Check for duplicates\n",
    "traffic_df.duplicated().sum()"
   ]
  },
  {
   "cell_type": "code",
   "execution_count": 9,
   "metadata": {},
   "outputs": [
    {
     "data": {
      "text/html": [
       "<div>\n",
       "<style scoped>\n",
       "    .dataframe tbody tr th:only-of-type {\n",
       "        vertical-align: middle;\n",
       "    }\n",
       "\n",
       "    .dataframe tbody tr th {\n",
       "        vertical-align: top;\n",
       "    }\n",
       "\n",
       "    .dataframe thead th {\n",
       "        text-align: right;\n",
       "    }\n",
       "</style>\n",
       "<table border=\"1\" class=\"dataframe\">\n",
       "  <thead>\n",
       "    <tr style=\"text-align: right;\">\n",
       "      <th></th>\n",
       "      <th>Date</th>\n",
       "      <th>CarCount</th>\n",
       "      <th>BikeCount</th>\n",
       "      <th>BusCount</th>\n",
       "      <th>TruckCount</th>\n",
       "      <th>Total</th>\n",
       "    </tr>\n",
       "  </thead>\n",
       "  <tbody>\n",
       "    <tr>\n",
       "      <th>count</th>\n",
       "      <td>2976.000000</td>\n",
       "      <td>2976.000000</td>\n",
       "      <td>2976.000000</td>\n",
       "      <td>2976.000000</td>\n",
       "      <td>2976.000000</td>\n",
       "      <td>2976.000000</td>\n",
       "    </tr>\n",
       "    <tr>\n",
       "      <th>mean</th>\n",
       "      <td>16.000000</td>\n",
       "      <td>68.696573</td>\n",
       "      <td>14.917339</td>\n",
       "      <td>15.279570</td>\n",
       "      <td>15.324933</td>\n",
       "      <td>114.218414</td>\n",
       "    </tr>\n",
       "    <tr>\n",
       "      <th>std</th>\n",
       "      <td>8.945775</td>\n",
       "      <td>45.850693</td>\n",
       "      <td>12.847518</td>\n",
       "      <td>14.341986</td>\n",
       "      <td>10.603833</td>\n",
       "      <td>60.190627</td>\n",
       "    </tr>\n",
       "    <tr>\n",
       "      <th>min</th>\n",
       "      <td>1.000000</td>\n",
       "      <td>6.000000</td>\n",
       "      <td>0.000000</td>\n",
       "      <td>0.000000</td>\n",
       "      <td>0.000000</td>\n",
       "      <td>21.000000</td>\n",
       "    </tr>\n",
       "    <tr>\n",
       "      <th>25%</th>\n",
       "      <td>8.000000</td>\n",
       "      <td>19.000000</td>\n",
       "      <td>5.000000</td>\n",
       "      <td>1.000000</td>\n",
       "      <td>6.000000</td>\n",
       "      <td>55.000000</td>\n",
       "    </tr>\n",
       "    <tr>\n",
       "      <th>50%</th>\n",
       "      <td>16.000000</td>\n",
       "      <td>64.000000</td>\n",
       "      <td>12.000000</td>\n",
       "      <td>12.000000</td>\n",
       "      <td>14.000000</td>\n",
       "      <td>109.000000</td>\n",
       "    </tr>\n",
       "    <tr>\n",
       "      <th>75%</th>\n",
       "      <td>24.000000</td>\n",
       "      <td>107.000000</td>\n",
       "      <td>22.000000</td>\n",
       "      <td>25.000000</td>\n",
       "      <td>23.000000</td>\n",
       "      <td>164.000000</td>\n",
       "    </tr>\n",
       "    <tr>\n",
       "      <th>max</th>\n",
       "      <td>31.000000</td>\n",
       "      <td>180.000000</td>\n",
       "      <td>70.000000</td>\n",
       "      <td>50.000000</td>\n",
       "      <td>40.000000</td>\n",
       "      <td>279.000000</td>\n",
       "    </tr>\n",
       "  </tbody>\n",
       "</table>\n",
       "</div>"
      ],
      "text/plain": [
       "              Date     CarCount    BikeCount     BusCount   TruckCount  \\\n",
       "count  2976.000000  2976.000000  2976.000000  2976.000000  2976.000000   \n",
       "mean     16.000000    68.696573    14.917339    15.279570    15.324933   \n",
       "std       8.945775    45.850693    12.847518    14.341986    10.603833   \n",
       "min       1.000000     6.000000     0.000000     0.000000     0.000000   \n",
       "25%       8.000000    19.000000     5.000000     1.000000     6.000000   \n",
       "50%      16.000000    64.000000    12.000000    12.000000    14.000000   \n",
       "75%      24.000000   107.000000    22.000000    25.000000    23.000000   \n",
       "max      31.000000   180.000000    70.000000    50.000000    40.000000   \n",
       "\n",
       "             Total  \n",
       "count  2976.000000  \n",
       "mean    114.218414  \n",
       "std      60.190627  \n",
       "min      21.000000  \n",
       "25%      55.000000  \n",
       "50%     109.000000  \n",
       "75%     164.000000  \n",
       "max     279.000000  "
      ]
     },
     "execution_count": 9,
     "metadata": {},
     "output_type": "execute_result"
    }
   ],
   "source": [
    "traffic_df.describe()"
   ]
  },
  {
   "cell_type": "code",
   "execution_count": 13,
   "metadata": {},
   "outputs": [
    {
     "data": {
      "text/html": [
       "<div>\n",
       "<style scoped>\n",
       "    .dataframe tbody tr th:only-of-type {\n",
       "        vertical-align: middle;\n",
       "    }\n",
       "\n",
       "    .dataframe tbody tr th {\n",
       "        vertical-align: top;\n",
       "    }\n",
       "\n",
       "    .dataframe thead th {\n",
       "        text-align: right;\n",
       "    }\n",
       "</style>\n",
       "<table border=\"1\" class=\"dataframe\">\n",
       "  <thead>\n",
       "    <tr style=\"text-align: right;\">\n",
       "      <th></th>\n",
       "      <th>Time</th>\n",
       "      <th>Date</th>\n",
       "      <th>Day of the week</th>\n",
       "      <th>CarCount</th>\n",
       "      <th>BikeCount</th>\n",
       "      <th>BusCount</th>\n",
       "      <th>TruckCount</th>\n",
       "      <th>Total</th>\n",
       "      <th>Traffic Situation</th>\n",
       "    </tr>\n",
       "  </thead>\n",
       "  <tbody>\n",
       "    <tr>\n",
       "      <th>0</th>\n",
       "      <td>12:00:00 AM</td>\n",
       "      <td>10</td>\n",
       "      <td>Tuesday</td>\n",
       "      <td>31</td>\n",
       "      <td>0</td>\n",
       "      <td>4</td>\n",
       "      <td>4</td>\n",
       "      <td>39</td>\n",
       "      <td>low</td>\n",
       "    </tr>\n",
       "    <tr>\n",
       "      <th>1</th>\n",
       "      <td>12:15:00 AM</td>\n",
       "      <td>10</td>\n",
       "      <td>Tuesday</td>\n",
       "      <td>49</td>\n",
       "      <td>0</td>\n",
       "      <td>3</td>\n",
       "      <td>3</td>\n",
       "      <td>55</td>\n",
       "      <td>low</td>\n",
       "    </tr>\n",
       "    <tr>\n",
       "      <th>2</th>\n",
       "      <td>12:30:00 AM</td>\n",
       "      <td>10</td>\n",
       "      <td>Tuesday</td>\n",
       "      <td>46</td>\n",
       "      <td>0</td>\n",
       "      <td>3</td>\n",
       "      <td>6</td>\n",
       "      <td>55</td>\n",
       "      <td>low</td>\n",
       "    </tr>\n",
       "    <tr>\n",
       "      <th>3</th>\n",
       "      <td>12:45:00 AM</td>\n",
       "      <td>10</td>\n",
       "      <td>Tuesday</td>\n",
       "      <td>51</td>\n",
       "      <td>0</td>\n",
       "      <td>2</td>\n",
       "      <td>5</td>\n",
       "      <td>58</td>\n",
       "      <td>low</td>\n",
       "    </tr>\n",
       "    <tr>\n",
       "      <th>4</th>\n",
       "      <td>1:00:00 AM</td>\n",
       "      <td>10</td>\n",
       "      <td>Tuesday</td>\n",
       "      <td>57</td>\n",
       "      <td>6</td>\n",
       "      <td>15</td>\n",
       "      <td>16</td>\n",
       "      <td>94</td>\n",
       "      <td>normal</td>\n",
       "    </tr>\n",
       "    <tr>\n",
       "      <th>...</th>\n",
       "      <td>...</td>\n",
       "      <td>...</td>\n",
       "      <td>...</td>\n",
       "      <td>...</td>\n",
       "      <td>...</td>\n",
       "      <td>...</td>\n",
       "      <td>...</td>\n",
       "      <td>...</td>\n",
       "      <td>...</td>\n",
       "    </tr>\n",
       "    <tr>\n",
       "      <th>2971</th>\n",
       "      <td>10:45:00 PM</td>\n",
       "      <td>9</td>\n",
       "      <td>Thursday</td>\n",
       "      <td>16</td>\n",
       "      <td>3</td>\n",
       "      <td>1</td>\n",
       "      <td>36</td>\n",
       "      <td>56</td>\n",
       "      <td>normal</td>\n",
       "    </tr>\n",
       "    <tr>\n",
       "      <th>2972</th>\n",
       "      <td>11:00:00 PM</td>\n",
       "      <td>9</td>\n",
       "      <td>Thursday</td>\n",
       "      <td>11</td>\n",
       "      <td>0</td>\n",
       "      <td>1</td>\n",
       "      <td>30</td>\n",
       "      <td>42</td>\n",
       "      <td>normal</td>\n",
       "    </tr>\n",
       "    <tr>\n",
       "      <th>2973</th>\n",
       "      <td>11:15:00 PM</td>\n",
       "      <td>9</td>\n",
       "      <td>Thursday</td>\n",
       "      <td>15</td>\n",
       "      <td>4</td>\n",
       "      <td>1</td>\n",
       "      <td>25</td>\n",
       "      <td>45</td>\n",
       "      <td>normal</td>\n",
       "    </tr>\n",
       "    <tr>\n",
       "      <th>2974</th>\n",
       "      <td>11:30:00 PM</td>\n",
       "      <td>9</td>\n",
       "      <td>Thursday</td>\n",
       "      <td>16</td>\n",
       "      <td>5</td>\n",
       "      <td>0</td>\n",
       "      <td>27</td>\n",
       "      <td>48</td>\n",
       "      <td>normal</td>\n",
       "    </tr>\n",
       "    <tr>\n",
       "      <th>2975</th>\n",
       "      <td>11:45:00 PM</td>\n",
       "      <td>9</td>\n",
       "      <td>Thursday</td>\n",
       "      <td>14</td>\n",
       "      <td>3</td>\n",
       "      <td>1</td>\n",
       "      <td>15</td>\n",
       "      <td>33</td>\n",
       "      <td>normal</td>\n",
       "    </tr>\n",
       "  </tbody>\n",
       "</table>\n",
       "<p>2976 rows × 9 columns</p>\n",
       "</div>"
      ],
      "text/plain": [
       "             Time  Date Day of the week  CarCount  BikeCount  BusCount  \\\n",
       "0     12:00:00 AM    10         Tuesday        31          0         4   \n",
       "1     12:15:00 AM    10         Tuesday        49          0         3   \n",
       "2     12:30:00 AM    10         Tuesday        46          0         3   \n",
       "3     12:45:00 AM    10         Tuesday        51          0         2   \n",
       "4      1:00:00 AM    10         Tuesday        57          6        15   \n",
       "...           ...   ...             ...       ...        ...       ...   \n",
       "2971  10:45:00 PM     9        Thursday        16          3         1   \n",
       "2972  11:00:00 PM     9        Thursday        11          0         1   \n",
       "2973  11:15:00 PM     9        Thursday        15          4         1   \n",
       "2974  11:30:00 PM     9        Thursday        16          5         0   \n",
       "2975  11:45:00 PM     9        Thursday        14          3         1   \n",
       "\n",
       "      TruckCount  Total Traffic Situation  \n",
       "0              4     39               low  \n",
       "1              3     55               low  \n",
       "2              6     55               low  \n",
       "3              5     58               low  \n",
       "4             16     94            normal  \n",
       "...          ...    ...               ...  \n",
       "2971          36     56            normal  \n",
       "2972          30     42            normal  \n",
       "2973          25     45            normal  \n",
       "2974          27     48            normal  \n",
       "2975          15     33            normal  \n",
       "\n",
       "[2976 rows x 9 columns]"
      ]
     },
     "metadata": {},
     "output_type": "display_data"
    }
   ],
   "source": [
    "display(traffic_df)"
   ]
  },
  {
   "cell_type": "code",
   "execution_count": 16,
   "metadata": {},
   "outputs": [
    {
     "name": "stdout",
     "output_type": "stream",
     "text": [
      "<class 'pandas.core.frame.DataFrame'>\n",
      "RangeIndex: 2976 entries, 0 to 2975\n",
      "Data columns (total 9 columns):\n",
      " #   Column             Non-Null Count  Dtype         \n",
      "---  ------             --------------  -----         \n",
      " 0   Time               2976 non-null   datetime64[ns]\n",
      " 1   Date               2976 non-null   int64         \n",
      " 2   Day of the week    2976 non-null   object        \n",
      " 3   CarCount           2976 non-null   int64         \n",
      " 4   BikeCount          2976 non-null   int64         \n",
      " 5   BusCount           2976 non-null   int64         \n",
      " 6   TruckCount         2976 non-null   int64         \n",
      " 7   Total              2976 non-null   int64         \n",
      " 8   Traffic Situation  2976 non-null   object        \n",
      "dtypes: datetime64[ns](1), int64(6), object(2)\n",
      "memory usage: 209.4+ KB\n"
     ]
    }
   ],
   "source": [
    "traffic_df.info()"
   ]
  },
  {
   "cell_type": "code",
   "execution_count": 17,
   "metadata": {},
   "outputs": [],
   "source": [
    "# Conversion to datetime object\n",
    "\n",
    "traffic_df['Time'] = pd.to_datetime(traffic_df['Time'], format='%H:%M:%S %p')"
   ]
  },
  {
   "cell_type": "markdown",
   "metadata": {},
   "source": [
    "# 2. Data analysis "
   ]
  },
  {
   "cell_type": "code",
   "execution_count": 18,
   "metadata": {},
   "outputs": [],
   "source": [
    "traffic_analysis_df = traffic_df"
   ]
  },
  {
   "cell_type": "code",
   "execution_count": 29,
   "metadata": {},
   "outputs": [
    {
     "data": {
      "image/png": "[encoded data removed]",
      "text/plain": [
       "<Figure size 1200x600 with 4 Axes>"
      ]
     },
     "metadata": {},
     "output_type": "display_data"
    }
   ],
   "source": [
    "plt.figure(figsize=(12,6))\n",
    "\n",
    "# Car Count\n",
    "plt.subplot(2, 2, 1)\n",
    "plt.hist(traffic_analysis_df['CarCount'], bins=30, color='lightgreen', edgecolor='black')\n",
    "plt.title('Distribution of car counts')\n",
    "plt.xlabel('Count')\n",
    "plt.ylabel('Frequency')\n",
    "\n",
    "# Bike Count\n",
    "plt.subplot(2, 2, 2)\n",
    "plt.hist(traffic_analysis_df['BikeCount'], bins=30, color='red', edgecolor='black')\n",
    "plt.title('Distribution of bike counts')\n",
    "plt.xlabel('Count')\n",
    "plt.ylabel('Frequency')\n",
    "\n",
    "# Truck Count\n",
    "plt.subplot(2, 2, 3)\n",
    "plt.hist(traffic_analysis_df['BusCount'], bins=30, color='lightblue', edgecolor='black')\n",
    "plt.title('Distribution of bus counts')\n",
    "plt.xlabel('Count')\n",
    "plt.ylabel('Frequency')\n",
    "\n",
    "# Bus Count\n",
    "plt.subplot(2, 2, 4)\n",
    "plt.hist(traffic_analysis_df['TruckCount'], bins=30, color='orange', edgecolor='black')\n",
    "plt.title('Distribution of truck counts')\n",
    "plt.xlabel('Count')\n",
    "plt.ylabel('Frequency')\n",
    "\n",
    "\n",
    "plt.tight_layout()\n",
    "plt.show()"
   ]
  },
  {
   "cell_type": "code",
   "execution_count": 34,
   "metadata": {},
   "outputs": [
    {
     "data": {
      "text/plain": [
       "<Axes: ylabel='count'>"
      ]
     },
     "execution_count": 34,
     "metadata": {},
     "output_type": "execute_result"
    },
    {
     "data": {
      "image/png": "[encoded data removed]",
      "text/plain": [
       "<Figure size 640x480 with 1 Axes>"
      ]
     },
     "metadata": {},
     "output_type": "display_data"
    }
   ],
   "source": [
    "traffic_analysis_df['Traffic Situation'].value_counts().plot(kind='pie')"
   ]
  },
  {
   "cell_type": "code",
   "execution_count": null,
   "metadata": {},
   "outputs": [],
   "source": []
  },
  {
   "cell_type": "markdown",
   "metadata": {},
   "source": [
    "# 3. Pre-processing"
   ]
  }
 ],
 "metadata": {
  "kernelspec": {
   "display_name": ".venv",
   "language": "python",
   "name": "python3"
  },
  "language_info": {
   "codemirror_mode": {
    "name": "ipython",
    "version": 3
   },
   "file_extension": ".py",
   "mimetype": "text/x-python",
   "name": "python",
   "nbconvert_exporter": "python",
   "pygments_lexer": "ipython3",
   "version": "3.8.10"
  }
 },
 "nbformat": 4,
 "nbformat_minor": 2
}
