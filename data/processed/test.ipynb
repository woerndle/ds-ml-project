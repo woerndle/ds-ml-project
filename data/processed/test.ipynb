{
 "cells": [
  {
   "cell_type": "code",
   "execution_count": null,
   "metadata": {},
   "outputs": [
    {
     "ename": "",
     "evalue": "",
     "output_type": "error",
     "traceback": [
      "\u001b[1;31mFailed to start the Kernel 'gpu_svm_env (Python undefined.undefined.undefined)'. \n",
      "\u001b[1;31mView Jupyter <a href='command:jupyter.viewOutput'>log</a> for further details. spawn UNKNOWN"
     ]
    }
   ],
   "source": [
    "import pandas as pd\n",
    "from sklearn.model_selection import train_test_split\n",
    "from sklearn.feature_extraction.text import TfidfVectorizer\n",
    "from sklearn.metrics import classification_report\n",
    "from sklearn.preprocessing import LabelEncoder\n",
    "import cupy as cp  # Import CuPy for GPU arrays\n",
    "\n",
    "# Load Data\n",
    "data = pd.read_csv('wine_reviews_processed.csv')\n",
    "X = data['description']\n",
    "y = data['country']\n",
    "\n",
    "# Label Encoding\n",
    "label_encoder = LabelEncoder()\n",
    "y = label_encoder.fit_transform(y)\n",
    "\n",
    "# Vectorize Text (TF-IDF remains on CPU but we convert to CuPy afterward)\n",
    "vectorizer = TfidfVectorizer(max_features=50, stop_words='english')\n",
    "X = vectorizer.fit_transform(X).toarray()  # Convert to dense matrix on CPU\n",
    "X = cp.array(X)  # Transfer data to GPU with CuPy\n",
    "\n",
    "# Split Data\n",
    "X_train, X_test, y_train, y_test = train_test_split(X.get(), y, test_size=0.2, random_state=42)\n",
    "# `.get()` brings CuPy arrays back to NumPy for compatibility with scikit-learn\n",
    "\n",
    "# Train CPU-based SVM Classifier\n",
    "from sklearn.svm import SVC  # Use scikit-learn's SVC, as cuML is not available on Windows\n",
    "svm_model = SVC(kernel='linear', C=1)\n",
    "svm_model.fit(X_train, y_train)\n",
    "\n",
    "# Predict and Evaluate\n",
    "y_pred = svm_model.predict(X_test)\n",
    "print(classification_report(y_test, y_pred, target_names=label_encoder.classes_))\n"
   ]
  }
 ],
 "metadata": {
  "kernelspec": {
   "display_name": "gpu_svm_env",
   "language": "python",
   "name": "python3"
  },
  "language_info": {
   "codemirror_mode": {
    "name": "ipython",
    "version": 3
   },
   "file_extension": ".py",
   "mimetype": "text/x-python",
   "name": "python",
   "nbconvert_exporter": "python",
   "pygments_lexer": "ipython3",
   "version": "3.8.20"
  }
 },
 "nbformat": 4,
 "nbformat_minor": 2
}
